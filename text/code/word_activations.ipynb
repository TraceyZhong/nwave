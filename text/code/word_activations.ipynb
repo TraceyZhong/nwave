{
 "cells": [
  {
   "cell_type": "code",
   "execution_count": null,
   "metadata": {},
   "outputs": [],
   "source": [
    "import numpy as np\n",
    "import matplotlib.pyplot as plt\n",
    "import pickle\n",
    "%matplotlib inline"
   ]
  },
  {
   "cell_type": "code",
   "execution_count": null,
   "metadata": {},
   "outputs": [],
   "source": [
    "# choose either dataset \n",
    "DATASET = 'wiki103'\n",
    "DATASET = 'glove100'"
   ]
  },
  {
   "cell_type": "code",
   "execution_count": null,
   "metadata": {},
   "outputs": [],
   "source": [
    "if DATASET == 'wiki103':\n",
    "    fpath = \"../result/fairseqLoadertr0.2we30wi5lrW0.1lrA0.1/\"\n",
    "    activity = np.load(fpath + 'uactivity.npy')\n",
    "    with open('../data/wiki103/4vocabidx.pkl', 'rb') as f:\n",
    "        vocabidx = pickle.load(f)\n",
    "\n",
    "if DATASET == \"glove100\":\n",
    "    fpath = \"../result/unigram97Loadertr0.2we30wi5lrW0.1lrA0.1/\"\n",
    "    activity = np.load(fpath + 'uactivity.npy')\n",
    "    with open('../data/googleNgram/4vocabidx.pkl', 'rb') as f:\n",
    "        vocabidx = pickle.load(f)\n"
   ]
  },
  {
   "cell_type": "code",
   "execution_count": null,
   "metadata": {},
   "outputs": [],
   "source": [
    "from mpl_toolkits.axes_grid1 import make_axes_locatable\n",
    "\n",
    "def plot_word_activations(words, filename=''):\n",
    "\n",
    "    i = 0\n",
    "    for word in words:\n",
    "        try: \n",
    "            activ = activity[vocabidx[word]]\n",
    "        except Exception: \n",
    "            print(\"word: {} not found\".format(word))\n",
    "        else: \n",
    "            fig, ax = plt.subplots(figsize=(5,5))\n",
    "            l0norm = np.abs(activ).max()\n",
    "            im = ax.imshow(activ.reshape(40,40), cmap='jet', interpolation='gaussian' , vmin=-l0norm, vmax=l0norm)\n",
    "            divider = make_axes_locatable(ax)\n",
    "            cax = divider.append_axes(\"right\", size=\"5%\", pad=0.2)\n",
    "            plt.colorbar(im, cax=cax)\n",
    "            ax.set_title(\"{}\".format(word), fontsize=24)\n",
    "            ax.set_axis_off()\n",
    "            if len(filename) > 0:\n",
    "                plt.savefig('%s_%d.pdf' % (filename, i))\n",
    "                i = i+1\n",
    "            plt.show()\n"
   ]
  },
  {
   "cell_type": "code",
   "execution_count": null,
   "metadata": {
    "scrolled": false
   },
   "outputs": [],
   "source": [
    "plot_word_activations(['universe','university', 'astronomy', 'college'])"
   ]
  },
  {
   "cell_type": "code",
   "execution_count": null,
   "metadata": {
    "scrolled": true
   },
   "outputs": [],
   "source": [
    "plot_word_activations(['cell', 'brain', 'organ', 'piano'])"
   ]
  },
  {
   "cell_type": "code",
   "execution_count": null,
   "metadata": {
    "scrolled": true
   },
   "outputs": [],
   "source": [
    "plot_word_activations(['monarch', 'king', 'queen', 'female', 'prince', 'princess'])"
   ]
  },
  {
   "cell_type": "code",
   "execution_count": null,
   "metadata": {
    "scrolled": false
   },
   "outputs": [],
   "source": [
    "plot_word_activations(['fruit', 'vegetable', 'food', 'banana'])"
   ]
  },
  {
   "cell_type": "code",
   "execution_count": null,
   "metadata": {
    "scrolled": false
   },
   "outputs": [],
   "source": [
    "plot_word_activations(['flight', 'airplane', 'bike', 'truck'])"
   ]
  },
  {
   "cell_type": "code",
   "execution_count": null,
   "metadata": {
    "scrolled": false
   },
   "outputs": [],
   "source": [
    "plot_word_activations(['equations', 'code', 'rules', 'regulations'])"
   ]
  },
  {
   "cell_type": "code",
   "execution_count": null,
   "metadata": {
    "scrolled": true
   },
   "outputs": [],
   "source": [
    "plot_word_activations(['art', 'painting', 'artist', 'painter'])"
   ]
  },
  {
   "cell_type": "code",
   "execution_count": null,
   "metadata": {
    "scrolled": false
   },
   "outputs": [],
   "source": [
    "plot_word_activations(['technology', 'microsoft', 'intel', 'ibm', 'apple', 'banana'], 'tech')"
   ]
  }
 ],
 "metadata": {
  "interpreter": {
   "hash": "c1e3738dea1cbf2a97c4c27dc6e52cded4f3ff738c187936e7bb13df9411fbe1"
  },
  "kernelspec": {
   "display_name": "Python 3.9.10 ('py39')",
   "language": "python",
   "name": "python3"
  },
  "language_info": {
   "codemirror_mode": {
    "name": "ipython",
    "version": 3
   },
   "file_extension": ".py",
   "mimetype": "text/x-python",
   "name": "python",
   "nbconvert_exporter": "python",
   "pygments_lexer": "ipython3",
   "version": "3.9.10"
  }
 },
 "nbformat": 4,
 "nbformat_minor": 4
}
