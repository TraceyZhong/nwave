{
 "cells": [
  {
   "cell_type": "code",
   "execution_count": 1,
   "metadata": {},
   "outputs": [],
   "source": [
    "import numpy as np\n",
    "import matplotlib.pyplot as plt\n",
    "plt.rcParams['figure.figsize'] = (8, 6) # set default size of plots\n",
    "plt.rcParams['image.interpolation'] = 'nearest'\n",
    "%matplotlib inline\n",
    "from wavenet import wavenetSC\n",
    "                "
   ]
  },
  {
   "cell_type": "code",
   "execution_count": 2,
   "metadata": {},
   "outputs": [
    {
     "data": {
      "text/plain": [
       "array([[172,  31,  52,  88, 244, 112,  50, 224,  47,  57,  29, 235,  72,\n",
       "        117, 213, 133, 215, 115, 155, 154, 232,   5, 190, 179,   4, 193,\n",
       "        148, 167,   9,  60, 216, 206,  75,  51, 143, 136, 166, 249,  23,\n",
       "         64, 100, 147, 107, 106,  34,  80,  70, 105,  24,  87,  37],\n",
       "       [236, 230, 123, 160,  16,  10, 240, 195, 225,  67,  45,  62, 111,\n",
       "        101,  44, 222, 231,  39,  30, 137, 227, 250,   0, 168,  84, 126,\n",
       "         11, 205, 202,   7, 212, 198,  66,  73, 239, 127, 233,  38, 178,\n",
       "        171,  42,  36, 187, 116,  27, 220, 252, 218, 254, 211, 162],\n",
       "       [142, 196, 158, 214, 199,  48, 177,  61, 152, 113, 110,  93,  54,\n",
       "         17, 194,  58, 120, 219,  83, 201,  22, 221, 159, 181, 144,  98,\n",
       "        135, 185, 164,  14,  74,  12, 170,  68, 125, 121, 186,  33,  65,\n",
       "         81, 248,  59, 139,  96,  86, 247,  15,  41,  82,   6, 149],\n",
       "       [242, 210, 174, 156, 237, 173,  89, 245, 203, 138,  43, 153,  95,\n",
       "         28, 128,  92,  20, 226, 253, 146, 223, 243,  90,  76, 208,  94,\n",
       "         32,  26, 108,   3, 234, 129,  35, 141, 145,  55,  46, 238, 197,\n",
       "         69, 140, 114, 119, 134, 122, 150,  56, 191, 241,  91,  77],\n",
       "       [ 49, 246,  99, 151,  79, 217,  71, 130, 180,  53, 102, 131, 182,\n",
       "        161, 103, 228, 132, 229, 169,   8, 184, 207,  85, 175, 183, 176,\n",
       "        124,  78, 163, 251, 189,  18, 104, 118, 192,  19, 188,   1, 209,\n",
       "         97, 165, 200,  21, 157, 109,  63,  40, 204,  13,  25,   2]])"
      ]
     },
     "execution_count": 2,
     "metadata": {},
     "output_type": "execute_result"
    }
   ],
   "source": [
    "f = 5\n",
    "d = f*51\n",
    "#np.random.seed(0)\n",
    "pi = np.random.permutation(d).reshape(f,51)\n",
    "pi\n"
   ]
  },
  {
   "cell_type": "code",
   "execution_count": 125,
   "metadata": {},
   "outputs": [],
   "source": [
    "def generate_signal(fingers, pi, sig=0):\n",
    "    d = np.prod(pi.shape)+1\n",
    "    z = np.random.uniform(size=d)\n",
    "    x = sig*np.random.normal(size=d)\n",
    "    for f in fingers:\n",
    "        x[pi[f]] += z[pi[f]]\n",
    "    return x\n",
    "\n",
    "def generate_data(n, pi, sig=0, p=np.ones(7)/7):\n",
    "    d = np.prod(pi.shape)+1\n",
    "    X = np.zeros(n*d).reshape(n,d)\n",
    "    y = [0]*n\n",
    "    for s in np.arange(n):\n",
    "        this_y = np.random.choice(np.arange(7), p=p)\n",
    "        if this_y < 5:\n",
    "            X[s] = generate_signal([this_y], pi, sig)\n",
    "        elif this_y == 5:\n",
    "            X[s] = generate_signal([0,1], pi, sig)\n",
    "        elif this_y == 6:\n",
    "            X[s] = generate_signal([0,2], pi, sig)\n",
    "        y[s] = this_y\n",
    "    y = np.array(y)\n",
    "    return X, y\n",
    "\n",
    "def viz_data_point(x, y, pi, filename=''):\n",
    "    d = len(x)\n",
    "    z = np.zeros(d)\n",
    "    if y < 5:\n",
    "        sample = pi[y]\n",
    "    elif y == 5:\n",
    "        sample = np.array(list(pi[0])+list(pi[1]))\n",
    "    elif y == 6:\n",
    "        sample = np.array(list(pi[0])+list(pi[2]))\n",
    "    plt.bar(np.arange(d), height=x)\n",
    "    plt.plot(sample, [-0.75]*len(sample), '|', color='red')\n",
    "    if len(filename) > 0:\n",
    "        plt.savefig(filename, bbox_inches='tight')\n",
    "    plt.show()\n",
    "    \n",
    "def viz_unpermuted_data_point(x, y, pi, filename=''):\n",
    "    d = len(x)\n",
    "    z = np.zeros(d)\n",
    "    if y < 5:\n",
    "        sample = np.arange(51*y, 51*(y+1))\n",
    "    elif y == 5:\n",
    "        sample = np.arange(51*2)\n",
    "    elif y == 6:\n",
    "        sample = np.array(list(np.arange(51)) + list(np.arange(51*2, 51*3)))\n",
    "    pil = list(pi[0]) + list(pi[1]) + list(pi[2]) + list(pi[3]) + list(pi[4])\n",
    "    plt.bar(np.arange(d-1), height=x[pil])\n",
    "    plt.plot(sample, [-0.75]*len(sample), '|', color='red')\n",
    "    if len(filename) > 0:\n",
    "        plt.savefig(filename, bbox_inches='tight')    \n",
    "    plt.show()\n",
    "    #plt.bar(np.arange(d-1), height=z[pil])\n",
    "    \n",
    "def viz_data(x, y, pi, filename):\n",
    "    viz_data_point(x, y, pi, '%s_permuted.pdf' % filename)\n",
    "    viz_unpermuted_data_point(x, y, pi, '%s_unpermuted.pdf' % filename)\n"
   ]
  },
  {
   "cell_type": "code",
   "execution_count": 105,
   "metadata": {},
   "outputs": [
    {
     "data": {
      "text/plain": [
       "[0.16, 0.16, 0.16, 0.16, 0.16, 0.09999999999999998, 0.09999999999999998]"
      ]
     },
     "execution_count": 105,
     "metadata": {},
     "output_type": "execute_result"
    }
   ],
   "source": [
    "n = 1000\n",
    "p0 = 0.16\n",
    "p = [p0, p0, p0, p0, p0, (1-5*p0)/2, (1-5*p0)/2]\n",
    "X, y = generate_data(n, pi, sig=.3, p=p)\n",
    "X_test, y_test = generate_data(n, pi, sig=.3, p=p)\n",
    "p"
   ]
  },
  {
   "cell_type": "code",
   "execution_count": 128,
   "metadata": {},
   "outputs": [
    {
     "data": {
      "text/plain": [
       "2"
      ]
     },
     "execution_count": 128,
     "metadata": {},
     "output_type": "execute_result"
    }
   ],
   "source": [
    "y[16]"
   ]
  },
  {
   "cell_type": "code",
   "execution_count": 129,
   "metadata": {},
   "outputs": [
    {
     "data": {
      "image/png": "[encoded data removed]",
      "text/plain": [
       "<Figure size 432x288 with 1 Axes>"
      ]
     },
     "metadata": {
      "needs_background": "light"
     },
     "output_type": "display_data"
    },
    {
     "data": {
      "image/png": "[encoded data removed]",
      "text/plain": [
       "<Figure size 432x288 with 1 Axes>"
      ]
     },
     "metadata": {
      "needs_background": "light"
     },
     "output_type": "display_data"
    }
   ],
   "source": [
    "s = 16\n",
    "this_x = X[s]\n",
    "this_y = y[s]\n",
    "viz_data(this_x, this_y, pi, 'finger_example2')\n"
   ]
  }
 ],
 "metadata": {
  "kernelspec": {
   "display_name": "Python 3",
   "language": "python",
   "name": "python3"
  },
  "language_info": {
   "codemirror_mode": {
    "name": "ipython",
    "version": 3
   },
   "file_extension": ".py",
   "mimetype": "text/x-python",
   "name": "python",
   "nbconvert_exporter": "python",
   "pygments_lexer": "ipython3",
   "version": "3.8.5"
  }
 },
 "nbformat": 4,
 "nbformat_minor": 4
}
